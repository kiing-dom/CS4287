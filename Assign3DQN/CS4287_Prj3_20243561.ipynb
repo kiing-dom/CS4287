{
  "nbformat": 4,
  "nbformat_minor": 0,
  "metadata": {
    "colab": {
      "provenance": [],
      "authorship_tag": "ABX9TyMOu09hvY/73o04U/sXbOMB",
      "include_colab_link": true
    },
    "kernelspec": {
      "name": "python3",
      "display_name": "Python 3"
    },
    "language_info": {
      "name": "python"
    }
  },
  "cells": [
    {
      "cell_type": "markdown",
      "metadata": {
        "id": "view-in-github",
        "colab_type": "text"
      },
      "source": [
        "<a href=\"https://colab.research.google.com/github/kiing-dom/CS4287/blob/main/Assign3DQN/CS4287_Prj3_20243561.ipynb\" target=\"_parent\"><img src=\"https://colab.research.google.com/assets/colab-badge.svg\" alt=\"Open In Colab\"/></a>"
      ]
    },
    {
      "cell_type": "code",
      "execution_count": null,
      "metadata": {
        "id": "wUVPd4PBrePn"
      },
      "outputs": [],
      "source": [
        "# Dominion Gbadamosi - 20243561\n",
        "## code runs\n",
        "###"
      ]
    },
    {
      "cell_type": "markdown",
      "source": [
        "##Imports"
      ],
      "metadata": {
        "id": "xwzLMlKVxukF"
      }
    },
    {
      "cell_type": "code",
      "source": [
        "import gym # for defining and working with the environment\n",
        "import numpy as np # for numerical operations\n",
        "import matplotlib.pyplot as plt # for plots\n",
        "from tensorflow import keras # for building and training model\n",
        "from collections import deque # python module for double ended queue\n",
        "import random #training the model\n",
        "from skimage import exposure # image preprocessing\n",
        "from scipy.ndimage import gaussian_filter # image preprocessing"
      ],
      "metadata": {
        "id": "MHU-G2sRvEOb"
      },
      "execution_count": null,
      "outputs": []
    },
    {
      "cell_type": "markdown",
      "source": [
        "##Setting up Environment"
      ],
      "metadata": {
        "id": "dc018-0ax0C1"
      }
    },
    {
      "cell_type": "code",
      "source": [
        "env_string = gym.make('Pong-v0')\n",
        "state_size = env.observation_space.shape\n",
        "action_size = env.action_space.n"
      ],
      "metadata": {
        "id": "J8ojawd6xzpF"
      },
      "execution_count": null,
      "outputs": []
    },
    {
      "cell_type": "markdown",
      "source": [
        "##Hyperparameters"
      ],
      "metadata": {
        "id": "A9TwGbgaz6zg"
      }
    },
    {
      "cell_type": "code",
      "source": [
        "batch_size = 32 # number of samples processed at once\n",
        "max_episodes = 1000 # number of games played / training duration\n",
        "epsilon = 1.0 # controls exploration vs exploitation\n",
        "epsilon_decay = 0.995 # the rate at which exploration probability decreases\n",
        "epsilon_min - 0.1 # minimum level of exploration\n",
        "gamma = 0.99 # controls importance given to future rewards by agent\n",
        "learning_rate = 0.001 # controls the size of the adjustments made to the NN's weights based on the calculated gradient\n",
        "memory_size = 10000 # controls how many past experiences are stored (max size of replay buffer)"
      ],
      "metadata": {
        "id": "8IyZy43ixxmR"
      },
      "execution_count": null,
      "outputs": []
    },
    {
      "cell_type": "markdown",
      "source": [
        "## Data Preprocessing"
      ],
      "metadata": {
        "id": "F46TcfgR4fh3"
      }
    },
    {
      "cell_type": "code",
      "source": [
        "# function to preprocess the game frames\n",
        "def preprocess_frame(frame):\n",
        "  \"\"\"\n",
        "  Preprocessing Steps:\n",
        "    1. Convert the frame to grayscale.\n",
        "    2. Crop the frame to remove irrelevant parts.\n",
        "    3. Resize the frame by taking every second pixel.\n",
        "    4. Normalize pixel values to the range [0, 1].\n",
        "    5. Apply histogram equalization for contrast enhancement.\n",
        "    6. Apply Gaussian blur for filtering.\n",
        "  \"\"\"\n",
        "  #convert the frame to grayscale\n",
        "  gray = np.mean(frame, axis=2)\n",
        "\n",
        "  #crop the frame to remove unnecessary parts\n",
        "  cropped = gray[35:195, :]\n",
        "\n",
        "  #resize the frame by taking every second pixel (downsampling)\n",
        "  resized = cropped[::2, ::2]\n",
        "\n",
        "  #normalize pixel values to the range [0, 1]\n",
        "  normalized = resized / 255.0\n",
        "\n",
        "  #apply histogram equalization for contrast enhancements\n",
        "  equalized = exposure.equalize_hist(normalized)\n",
        "\n",
        "  #apply gaussian blur for filtering\n",
        "  filtered = gaussian_filter(equalized, sigma=1)"
      ],
      "metadata": {
        "id": "uE2J43736g_Z"
      },
      "execution_count": null,
      "outputs": []
    }
  ]
}