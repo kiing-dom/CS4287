{
  "nbformat": 4,
  "nbformat_minor": 0,
  "metadata": {
    "colab": {
      "provenance": [],
      "authorship_tag": "ABX9TyO7ldxaMW012+zVhExFbHB7",
      "include_colab_link": true
    },
    "kernelspec": {
      "name": "python3",
      "display_name": "Python 3"
    },
    "language_info": {
      "name": "python"
    }
  },
  "cells": [
    {
      "cell_type": "markdown",
      "metadata": {
        "id": "view-in-github",
        "colab_type": "text"
      },
      "source": [
        "<a href=\"https://colab.research.google.com/github/kiing-dom/CS4287/blob/main/Assignment2CNN/CS4287_Assign2_20243561_20250762.ipynb\" target=\"_parent\"><img src=\"https://colab.research.google.com/assets/colab-badge.svg\" alt=\"Open In Colab\"/></a>"
      ]
    },
    {
      "cell_type": "markdown",
      "source": [
        "# **CS4287 CNN**"
      ],
      "metadata": {
        "id": "_EFGArRoX-26"
      }
    },
    {
      "cell_type": "code",
      "source": [
        "# 20243561 - Dominion Gbadamosi  --- 20250762 - Dennis Kolomiyets\n",
        "# Runs"
      ],
      "metadata": {
        "id": "DcLS2EMAZZDJ"
      },
      "execution_count": 98,
      "outputs": []
    },
    {
      "cell_type": "code",
      "source": [
        "#Importing Necessary Libraries\n",
        "import numpy as np\n",
        "import pandas as pd\n",
        "from sklearn.model_selection import train_test_split\n",
        "from sklearn.preprocessing import LabelEncoder\n",
        "import tensorflow as tf\n",
        "import random\n",
        "import os\n",
        "\n",
        "import matplotlib.pyplot as plt\n",
        "import matplotlib.image as mpimg"
      ],
      "metadata": {
        "id": "MvjM_79MaD0g"
      },
      "execution_count": 99,
      "outputs": []
    },
    {
      "cell_type": "markdown",
      "source": [
        "## Data Visualization\n",
        "\n"
      ],
      "metadata": {
        "id": "z6wy6UIEuVWS"
      }
    },
    {
      "cell_type": "code",
      "source": [
        "# using pandas to read the library\n",
        "dataset = \"all_letters_info.csv\"\n",
        "df = pd.read_csv(dataset)\n",
        "\n",
        "#display the header of the dataset\n",
        "display(df.head())"
      ],
      "metadata": {
        "colab": {
          "base_uri": "https://localhost:8080/",
          "height": 206
        },
        "id": "cPccRTgl6FBk",
        "outputId": "74e3a8a3-e726-4c5f-d5e6-7456f9dbdd83"
      },
      "execution_count": 100,
      "outputs": [
        {
          "output_type": "display_data",
          "data": {
            "text/plain": [
              "  letter  label       file  background\n",
              "0      а      1  01_01.png           0\n",
              "1      а      1  01_02.png           0\n",
              "2      а      1  01_03.png           0\n",
              "3      а      1  01_04.png           0\n",
              "4      а      1  01_05.png           0"
            ],
            "text/html": [
              "\n",
              "  <div id=\"df-23b110e2-80b3-44c4-937f-5cee41db0eaf\" class=\"colab-df-container\">\n",
              "    <div>\n",
              "<style scoped>\n",
              "    .dataframe tbody tr th:only-of-type {\n",
              "        vertical-align: middle;\n",
              "    }\n",
              "\n",
              "    .dataframe tbody tr th {\n",
              "        vertical-align: top;\n",
              "    }\n",
              "\n",
              "    .dataframe thead th {\n",
              "        text-align: right;\n",
              "    }\n",
              "</style>\n",
              "<table border=\"1\" class=\"dataframe\">\n",
              "  <thead>\n",
              "    <tr style=\"text-align: right;\">\n",
              "      <th></th>\n",
              "      <th>letter</th>\n",
              "      <th>label</th>\n",
              "      <th>file</th>\n",
              "      <th>background</th>\n",
              "    </tr>\n",
              "  </thead>\n",
              "  <tbody>\n",
              "    <tr>\n",
              "      <th>0</th>\n",
              "      <td>а</td>\n",
              "      <td>1</td>\n",
              "      <td>01_01.png</td>\n",
              "      <td>0</td>\n",
              "    </tr>\n",
              "    <tr>\n",
              "      <th>1</th>\n",
              "      <td>а</td>\n",
              "      <td>1</td>\n",
              "      <td>01_02.png</td>\n",
              "      <td>0</td>\n",
              "    </tr>\n",
              "    <tr>\n",
              "      <th>2</th>\n",
              "      <td>а</td>\n",
              "      <td>1</td>\n",
              "      <td>01_03.png</td>\n",
              "      <td>0</td>\n",
              "    </tr>\n",
              "    <tr>\n",
              "      <th>3</th>\n",
              "      <td>а</td>\n",
              "      <td>1</td>\n",
              "      <td>01_04.png</td>\n",
              "      <td>0</td>\n",
              "    </tr>\n",
              "    <tr>\n",
              "      <th>4</th>\n",
              "      <td>а</td>\n",
              "      <td>1</td>\n",
              "      <td>01_05.png</td>\n",
              "      <td>0</td>\n",
              "    </tr>\n",
              "  </tbody>\n",
              "</table>\n",
              "</div>\n",
              "    <div class=\"colab-df-buttons\">\n",
              "\n",
              "  <div class=\"colab-df-container\">\n",
              "    <button class=\"colab-df-convert\" onclick=\"convertToInteractive('df-23b110e2-80b3-44c4-937f-5cee41db0eaf')\"\n",
              "            title=\"Convert this dataframe to an interactive table.\"\n",
              "            style=\"display:none;\">\n",
              "\n",
              "  <svg xmlns=\"http://www.w3.org/2000/svg\" height=\"24px\" viewBox=\"0 -960 960 960\">\n",
              "    <path d=\"M120-120v-720h720v720H120Zm60-500h600v-160H180v160Zm220 220h160v-160H400v160Zm0 220h160v-160H400v160ZM180-400h160v-160H180v160Zm440 0h160v-160H620v160ZM180-180h160v-160H180v160Zm440 0h160v-160H620v160Z\"/>\n",
              "  </svg>\n",
              "    </button>\n",
              "\n",
              "  <style>\n",
              "    .colab-df-container {\n",
              "      display:flex;\n",
              "      gap: 12px;\n",
              "    }\n",
              "\n",
              "    .colab-df-convert {\n",
              "      background-color: #E8F0FE;\n",
              "      border: none;\n",
              "      border-radius: 50%;\n",
              "      cursor: pointer;\n",
              "      display: none;\n",
              "      fill: #1967D2;\n",
              "      height: 32px;\n",
              "      padding: 0 0 0 0;\n",
              "      width: 32px;\n",
              "    }\n",
              "\n",
              "    .colab-df-convert:hover {\n",
              "      background-color: #E2EBFA;\n",
              "      box-shadow: 0px 1px 2px rgba(60, 64, 67, 0.3), 0px 1px 3px 1px rgba(60, 64, 67, 0.15);\n",
              "      fill: #174EA6;\n",
              "    }\n",
              "\n",
              "    .colab-df-buttons div {\n",
              "      margin-bottom: 4px;\n",
              "    }\n",
              "\n",
              "    [theme=dark] .colab-df-convert {\n",
              "      background-color: #3B4455;\n",
              "      fill: #D2E3FC;\n",
              "    }\n",
              "\n",
              "    [theme=dark] .colab-df-convert:hover {\n",
              "      background-color: #434B5C;\n",
              "      box-shadow: 0px 1px 3px 1px rgba(0, 0, 0, 0.15);\n",
              "      filter: drop-shadow(0px 1px 2px rgba(0, 0, 0, 0.3));\n",
              "      fill: #FFFFFF;\n",
              "    }\n",
              "  </style>\n",
              "\n",
              "    <script>\n",
              "      const buttonEl =\n",
              "        document.querySelector('#df-23b110e2-80b3-44c4-937f-5cee41db0eaf button.colab-df-convert');\n",
              "      buttonEl.style.display =\n",
              "        google.colab.kernel.accessAllowed ? 'block' : 'none';\n",
              "\n",
              "      async function convertToInteractive(key) {\n",
              "        const element = document.querySelector('#df-23b110e2-80b3-44c4-937f-5cee41db0eaf');\n",
              "        const dataTable =\n",
              "          await google.colab.kernel.invokeFunction('convertToInteractive',\n",
              "                                                    [key], {});\n",
              "        if (!dataTable) return;\n",
              "\n",
              "        const docLinkHtml = 'Like what you see? Visit the ' +\n",
              "          '<a target=\"_blank\" href=https://colab.research.google.com/notebooks/data_table.ipynb>data table notebook</a>'\n",
              "          + ' to learn more about interactive tables.';\n",
              "        element.innerHTML = '';\n",
              "        dataTable['output_type'] = 'display_data';\n",
              "        await google.colab.output.renderOutput(dataTable, element);\n",
              "        const docLink = document.createElement('div');\n",
              "        docLink.innerHTML = docLinkHtml;\n",
              "        element.appendChild(docLink);\n",
              "      }\n",
              "    </script>\n",
              "  </div>\n",
              "\n",
              "\n",
              "<div id=\"df-d51e17b8-e148-434c-95ed-efa954322acb\">\n",
              "  <button class=\"colab-df-quickchart\" onclick=\"quickchart('df-d51e17b8-e148-434c-95ed-efa954322acb')\"\n",
              "            title=\"Suggest charts\"\n",
              "            style=\"display:none;\">\n",
              "\n",
              "<svg xmlns=\"http://www.w3.org/2000/svg\" height=\"24px\"viewBox=\"0 0 24 24\"\n",
              "     width=\"24px\">\n",
              "    <g>\n",
              "        <path d=\"M19 3H5c-1.1 0-2 .9-2 2v14c0 1.1.9 2 2 2h14c1.1 0 2-.9 2-2V5c0-1.1-.9-2-2-2zM9 17H7v-7h2v7zm4 0h-2V7h2v10zm4 0h-2v-4h2v4z\"/>\n",
              "    </g>\n",
              "</svg>\n",
              "  </button>\n",
              "\n",
              "<style>\n",
              "  .colab-df-quickchart {\n",
              "      --bg-color: #E8F0FE;\n",
              "      --fill-color: #1967D2;\n",
              "      --hover-bg-color: #E2EBFA;\n",
              "      --hover-fill-color: #174EA6;\n",
              "      --disabled-fill-color: #AAA;\n",
              "      --disabled-bg-color: #DDD;\n",
              "  }\n",
              "\n",
              "  [theme=dark] .colab-df-quickchart {\n",
              "      --bg-color: #3B4455;\n",
              "      --fill-color: #D2E3FC;\n",
              "      --hover-bg-color: #434B5C;\n",
              "      --hover-fill-color: #FFFFFF;\n",
              "      --disabled-bg-color: #3B4455;\n",
              "      --disabled-fill-color: #666;\n",
              "  }\n",
              "\n",
              "  .colab-df-quickchart {\n",
              "    background-color: var(--bg-color);\n",
              "    border: none;\n",
              "    border-radius: 50%;\n",
              "    cursor: pointer;\n",
              "    display: none;\n",
              "    fill: var(--fill-color);\n",
              "    height: 32px;\n",
              "    padding: 0;\n",
              "    width: 32px;\n",
              "  }\n",
              "\n",
              "  .colab-df-quickchart:hover {\n",
              "    background-color: var(--hover-bg-color);\n",
              "    box-shadow: 0 1px 2px rgba(60, 64, 67, 0.3), 0 1px 3px 1px rgba(60, 64, 67, 0.15);\n",
              "    fill: var(--button-hover-fill-color);\n",
              "  }\n",
              "\n",
              "  .colab-df-quickchart-complete:disabled,\n",
              "  .colab-df-quickchart-complete:disabled:hover {\n",
              "    background-color: var(--disabled-bg-color);\n",
              "    fill: var(--disabled-fill-color);\n",
              "    box-shadow: none;\n",
              "  }\n",
              "\n",
              "  .colab-df-spinner {\n",
              "    border: 2px solid var(--fill-color);\n",
              "    border-color: transparent;\n",
              "    border-bottom-color: var(--fill-color);\n",
              "    animation:\n",
              "      spin 1s steps(1) infinite;\n",
              "  }\n",
              "\n",
              "  @keyframes spin {\n",
              "    0% {\n",
              "      border-color: transparent;\n",
              "      border-bottom-color: var(--fill-color);\n",
              "      border-left-color: var(--fill-color);\n",
              "    }\n",
              "    20% {\n",
              "      border-color: transparent;\n",
              "      border-left-color: var(--fill-color);\n",
              "      border-top-color: var(--fill-color);\n",
              "    }\n",
              "    30% {\n",
              "      border-color: transparent;\n",
              "      border-left-color: var(--fill-color);\n",
              "      border-top-color: var(--fill-color);\n",
              "      border-right-color: var(--fill-color);\n",
              "    }\n",
              "    40% {\n",
              "      border-color: transparent;\n",
              "      border-right-color: var(--fill-color);\n",
              "      border-top-color: var(--fill-color);\n",
              "    }\n",
              "    60% {\n",
              "      border-color: transparent;\n",
              "      border-right-color: var(--fill-color);\n",
              "    }\n",
              "    80% {\n",
              "      border-color: transparent;\n",
              "      border-right-color: var(--fill-color);\n",
              "      border-bottom-color: var(--fill-color);\n",
              "    }\n",
              "    90% {\n",
              "      border-color: transparent;\n",
              "      border-bottom-color: var(--fill-color);\n",
              "    }\n",
              "  }\n",
              "</style>\n",
              "\n",
              "  <script>\n",
              "    async function quickchart(key) {\n",
              "      const quickchartButtonEl =\n",
              "        document.querySelector('#' + key + ' button');\n",
              "      quickchartButtonEl.disabled = true;  // To prevent multiple clicks.\n",
              "      quickchartButtonEl.classList.add('colab-df-spinner');\n",
              "      try {\n",
              "        const charts = await google.colab.kernel.invokeFunction(\n",
              "            'suggestCharts', [key], {});\n",
              "      } catch (error) {\n",
              "        console.error('Error during call to suggestCharts:', error);\n",
              "      }\n",
              "      quickchartButtonEl.classList.remove('colab-df-spinner');\n",
              "      quickchartButtonEl.classList.add('colab-df-quickchart-complete');\n",
              "    }\n",
              "    (() => {\n",
              "      let quickchartButtonEl =\n",
              "        document.querySelector('#df-d51e17b8-e148-434c-95ed-efa954322acb button');\n",
              "      quickchartButtonEl.style.display =\n",
              "        google.colab.kernel.accessAllowed ? 'block' : 'none';\n",
              "    })();\n",
              "  </script>\n",
              "</div>\n",
              "    </div>\n",
              "  </div>\n"
            ]
          },
          "metadata": {}
        }
      ]
    },
    {
      "cell_type": "code",
      "source": [
        "#folder path where the images are stored\n",
        "images_folder = \"all_letters_image/all_letters_image/\"\n",
        "\n",
        "#get list of all image files in the folder\n",
        "image_files = [f for f in os.listdir(images_folder) if f.endswith(('.jpg', '.jpeg', '.png'))]\n",
        "\n",
        "#choose a random image\n",
        "random_image_file = random.choice(image_files)\n",
        "\n",
        "#create the full path to the random image\n",
        "random_image_path = os.path.join(images_folder, random_image_file)\n",
        "\n",
        "#load and display the random image\n",
        "img = mpimg.imread(random_image_path)\n",
        "\n",
        "plt.imshow(img)\n",
        "plt.axis('off')\n",
        "plt.show()"
      ],
      "metadata": {
        "id": "tvXM1DMyGjaY",
        "colab": {
          "base_uri": "https://localhost:8080/",
          "height": 406
        },
        "outputId": "bac4e8a4-b836-4387-fc4e-fec089415e9f"
      },
      "execution_count": 101,
      "outputs": [
        {
          "output_type": "display_data",
          "data": {
            "text/plain": [
              "<Figure size 640x480 with 1 Axes>"
            ],
            "image/png": "[encoded data removed]"
          },
          "metadata": {}
        }
      ]
    },
    {
      "cell_type": "code",
      "source": [
        "labels = df['label'] #corresponding to the \"label\" column in the csv file\n",
        "file_names = df['file'] #corresponds to the \"file\" column in the csv file"
      ],
      "metadata": {
        "id": "g7dyEGsa7C1q"
      },
      "execution_count": 102,
      "outputs": []
    },
    {
      "cell_type": "markdown",
      "source": [
        "## Data Preprocessing"
      ],
      "metadata": {
        "id": "VLEcNoxF73Af"
      }
    },
    {
      "cell_type": "code",
      "source": [
        "# Preprocessing data\n",
        "le = LabelEncoder()\n",
        "labels = le.fit_transform(labels)\n",
        "\n",
        "#Image Preprocessing\n",
        "images = []\n",
        "\n",
        "for file_name in file_names:\n",
        "  # create the full file path\n",
        "  file_path = os.path.join(images_folder, file_name)\n",
        "\n",
        "  # load and preprocess the image\n",
        "  img = tf.keras.preprocessing.image.load_img(file_path, target_size=(32,32))\n",
        "  img = tf.keras.preprocessing.image.img_to_array(img)\n",
        "  img = img / 255.0 #Normalization of pixel values to the range [0, 1] to make values more suitable for neural network\n",
        "  images.append(img)\n",
        "\n",
        "images = np.array(images)\n",
        "\n",
        "#splitting the dataset into training & test data\n",
        "X_train, X_test, y_train, y_test = train_test_split(images, labels, test_size=0.2, random_state=42)\n",
        "\n",
        "# Adjust num_classes based on the actual number of classes\n",
        "y_test_one_hot = tf.keras.utils.to_categorical(y_test, num_classes=33)\n",
        "y_train_one_hot = tf.keras.utils.to_categorical(y_train, num_classes=33)  # Adjust num_classes based on the actual number of classes\n",
        "\n"
      ],
      "metadata": {
        "id": "Pz-zKo3x75aW"
      },
      "execution_count": 104,
      "outputs": []
    },
    {
      "cell_type": "markdown",
      "source": [
        "## Creating the Model"
      ],
      "metadata": {
        "id": "NNAMPO6BI-uW"
      }
    },
    {
      "cell_type": "code",
      "source": [
        "# Creating A Sequential Model\n",
        "model = tf.keras.models.Sequential()\n",
        "\n",
        "# adding a convolutional layer with 32 filters, a 3x3 kernel, and ReLU activation\n",
        "model.add(tf.keras.layers.Conv2D(32, (3, 3), activation='relu', input_shape = (32, 32, 3)))\n",
        "\n",
        "#adding a MaxPooling layer to downsample the spatial dimensions\n",
        "model.add(tf.keras.layers.MaxPooling2D(2, 2))\n",
        "\n",
        "#adding a convolutional layer with 64 filters and a 3x3 kernel\n",
        "model.add(tf.keras.layers.Conv2D(64, (3, 3), activation='relu'))\n",
        "\n",
        "#adding another MaxPooling layer\n",
        "model.add(tf.keras.layers.MaxPooling2D((2, 2)))\n",
        "\n",
        "#flatten the output before deeding it into the dense layers\n",
        "model.add(tf.keras.layers.Flatten())\n",
        "\n",
        "#adding a Dense layer with 64 units and ReLU activation\n",
        "model.add(tf.keras.layers.Dense(64, activation='relu'))\n",
        "\n",
        "#adding the output layer with as many units as there are classes and softmax\n",
        "# activation for multiclass classificaiton\n",
        "model.add(tf.keras.layers.Dense(33, activation='softmax'))  # Assuming there are 33 classes (letters in cyrillic alphabet)\n",
        "\n",
        "# Compiling the model but including the top 5 accuracy metric\n",
        "top5_acc = tf.keras.metrics.TopKCategoricalAccuracy(k=5)\n",
        "model.compile(optimizer='adam', loss='categorical_crossentropy', metrics=['accuracy', top5_acc])\n",
        "\n",
        "#display summary of the model\n",
        "model.summary()"
      ],
      "metadata": {
        "id": "YEU7PaWDEGHi",
        "colab": {
          "base_uri": "https://localhost:8080/"
        },
        "outputId": "c946fb5a-505d-4f01-d056-b568b1d40f12"
      },
      "execution_count": 105,
      "outputs": [
        {
          "output_type": "stream",
          "name": "stdout",
          "text": [
            "Model: \"sequential_11\"\n",
            "_________________________________________________________________\n",
            " Layer (type)                Output Shape              Param #   \n",
            "=================================================================\n",
            " conv2d_22 (Conv2D)          (None, 30, 30, 32)        896       \n",
            "                                                                 \n",
            " max_pooling2d_22 (MaxPooli  (None, 15, 15, 32)        0         \n",
            " ng2D)                                                           \n",
            "                                                                 \n",
            " conv2d_23 (Conv2D)          (None, 13, 13, 64)        18496     \n",
            "                                                                 \n",
            " max_pooling2d_23 (MaxPooli  (None, 6, 6, 64)          0         \n",
            " ng2D)                                                           \n",
            "                                                                 \n",
            " flatten_11 (Flatten)        (None, 2304)              0         \n",
            "                                                                 \n",
            " dense_22 (Dense)            (None, 64)                147520    \n",
            "                                                                 \n",
            " dense_23 (Dense)            (None, 33)                2145      \n",
            "                                                                 \n",
            "=================================================================\n",
            "Total params: 169057 (660.38 KB)\n",
            "Trainable params: 169057 (660.38 KB)\n",
            "Non-trainable params: 0 (0.00 Byte)\n",
            "_________________________________________________________________\n"
          ]
        }
      ]
    },
    {
      "cell_type": "markdown",
      "source": [
        "## Training & Evaluation"
      ],
      "metadata": {
        "id": "lFW3gAhnupGh"
      }
    },
    {
      "cell_type": "code",
      "source": [
        "# Assuming X_train_resized and y_train_one_hot are your training data\n",
        "# Adjust batch_size and epochs as needed\n",
        "batch_size = 32\n",
        "epochs = 50\n",
        "\n",
        "# Train the model\n",
        "history = model.fit(X_train, y_train_one_hot, batch_size=batch_size, epochs=epochs, validation_split=0.2)"
      ],
      "metadata": {
        "colab": {
          "base_uri": "https://localhost:8080/"
        },
        "id": "6lQIxrc4urZW",
        "outputId": "de93e431-663b-45ff-964c-6bc3af2c1d47"
      },
      "execution_count": 106,
      "outputs": [
        {
          "output_type": "stream",
          "name": "stdout",
          "text": [
            "Epoch 1/10\n",
            "284/284 [==============================] - 15s 49ms/step - loss: 3.4842 - accuracy: 0.0401 - val_loss: 3.4085 - val_accuracy: 0.0577\n",
            "Epoch 2/10\n",
            "284/284 [==============================] - 13s 47ms/step - loss: 3.0573 - accuracy: 0.1480 - val_loss: 2.6175 - val_accuracy: 0.2369\n",
            "Epoch 3/10\n",
            "284/284 [==============================] - 13s 45ms/step - loss: 2.3698 - accuracy: 0.3301 - val_loss: 2.1430 - val_accuracy: 0.3893\n",
            "Epoch 4/10\n",
            "284/284 [==============================] - 14s 50ms/step - loss: 2.0315 - accuracy: 0.4270 - val_loss: 1.9592 - val_accuracy: 0.4377\n",
            "Epoch 5/10\n",
            "284/284 [==============================] - 12s 43ms/step - loss: 1.7918 - accuracy: 0.4933 - val_loss: 1.6997 - val_accuracy: 0.5183\n",
            "Epoch 6/10\n",
            "284/284 [==============================] - 12s 41ms/step - loss: 1.5758 - accuracy: 0.5534 - val_loss: 1.5496 - val_accuracy: 0.5469\n",
            "Epoch 7/10\n",
            "284/284 [==============================] - 13s 46ms/step - loss: 1.3857 - accuracy: 0.6079 - val_loss: 1.4827 - val_accuracy: 0.5852\n",
            "Epoch 8/10\n",
            "284/284 [==============================] - 13s 47ms/step - loss: 1.2400 - accuracy: 0.6465 - val_loss: 1.3174 - val_accuracy: 0.6262\n",
            "Epoch 9/10\n",
            "284/284 [==============================] - 14s 51ms/step - loss: 1.1184 - accuracy: 0.6775 - val_loss: 1.2215 - val_accuracy: 0.6491\n",
            "Epoch 10/10\n",
            "284/284 [==============================] - 13s 47ms/step - loss: 1.0296 - accuracy: 0.7041 - val_loss: 1.1169 - val_accuracy: 0.6693\n"
          ]
        }
      ]
    }
  ]
}