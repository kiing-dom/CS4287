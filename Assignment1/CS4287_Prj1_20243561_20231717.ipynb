{
  "nbformat": 4,
  "nbformat_minor": 0,
  "metadata": {
    "colab": {
      "provenance": [],
      "authorship_tag": "ABX9TyP1P6l2T/UsgiPMU4tF4Utu",
      "include_colab_link": true
    },
    "kernelspec": {
      "name": "python3",
      "display_name": "Python 3"
    },
    "language_info": {
      "name": "python"
    }
  },
  "cells": [
    {
      "cell_type": "markdown",
      "metadata": {
        "id": "view-in-github",
        "colab_type": "text"
      },
      "source": [
        "<a href=\"https://colab.research.google.com/github/kiing-dom/CS4287/blob/main/Assignment1/CS4287_Prj1_20243561_20231717.ipynb\" target=\"_parent\"><img src=\"https://colab.research.google.com/assets/colab-badge.svg\" alt=\"Open In Colab\"/></a>"
      ]
    },
    {
      "cell_type": "markdown",
      "source": [
        "# CS4287 MLP"
      ],
      "metadata": {
        "id": "ChLFoCA1ECrZ"
      }
    },
    {
      "cell_type": "code",
      "source": [
        "# Dominion Gbadamosi - 20243561\n",
        "# Ameen Popoola - 20231717"
      ],
      "metadata": {
        "id": "a-Oc4MmRQ41M"
      },
      "execution_count": null,
      "outputs": []
    },
    {
      "cell_type": "code",
      "source": [
        "#Imports\n",
        "import numpy as np\n",
        "import seaborn as sbn\n",
        "import pandas as pd\n",
        "import matplotlib.pyplot as plt\n",
        "from IPython.display import display"
      ],
      "metadata": {
        "id": "f5SqFKVCxpu-"
      },
      "execution_count": null,
      "outputs": []
    },
    {
      "cell_type": "markdown",
      "source": [
        "# Visualization"
      ],
      "metadata": {
        "id": "wDpEDHeCuLFZ"
      }
    },
    {
      "cell_type": "code",
      "source": [
        "#Using Panda library to read the dataset\n",
        "dataset = \"Healthcare-Diabetes.csv\"\n",
        "df = pd.read_csv(dataset)"
      ],
      "metadata": {
        "id": "-fnWz2Bxy70O"
      },
      "execution_count": null,
      "outputs": []
    },
    {
      "cell_type": "code",
      "source": [
        "#Display the first few rows of the dataset\n",
        "display(df.head())"
      ],
      "metadata": {
        "id": "gAhuzFv-zYxr"
      },
      "execution_count": null,
      "outputs": []
    },
    {
      "cell_type": "code",
      "source": [
        "#Display the dataset's statistics\n",
        "display(df.describe())"
      ],
      "metadata": {
        "id": "c3AnKYK40Gjq"
      },
      "execution_count": null,
      "outputs": []
    }
  ]
}